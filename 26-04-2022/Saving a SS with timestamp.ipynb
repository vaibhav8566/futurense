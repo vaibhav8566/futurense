{
 "cells": [
  {
   "cell_type": "code",
   "execution_count": 4,
   "id": "3c64c631",
   "metadata": {},
   "outputs": [
    {
     "name": "stdout",
     "output_type": "stream",
     "text": [
      "    * \r\n",
      "   * * \r\n",
      "  * * * \r\n",
      " * * * * \r\n",
      "* * * * * \r\n"
     ]
    }
   ],
   "source": [
    "#to save a image anywhere in the system \n",
    "from tkinter import Tk, filedialog #tinker can be used for opening the search browser to select a folder\n",
    "import os\n",
    "import pyautogui #pyautogui is used to take screenshot using python\n",
    "import time\n",
    "n=5\n",
    "k=n-1\n",
    "#making the star pyramid\n",
    "for i in range (0,n):\n",
    "    for j in range(0,k):\n",
    "        print(end=\" \")\n",
    "    k=k-1\n",
    "    for j in range(0,i+1):\n",
    "        print(\"*\",end=\" \")\n",
    "    print(\"\\r\")\n",
    "time.sleep(5)\n",
    "#taking screenshot\n",
    "screen=pyautogui.screenshot()\n",
    "#using tkinter to open the browsing window to select the path\n",
    "open_file = filedialog.askdirectory()\n",
    "file=os.path.join(open_file,\"hello\"+new_time+\".jpg\") #adding time stamp so that the name is always different new_time is defined below\n",
    "screen.save(file)"
   ]
  },
  {
   "cell_type": "markdown",
   "id": "60066291",
   "metadata": {},
   "source": [
    "Using timestamp with name to save the file so that the name never repeats"
   ]
  },
  {
   "cell_type": "code",
   "execution_count": 6,
   "id": "94e5828a",
   "metadata": {},
   "outputs": [
    {
     "data": {
      "text/plain": [
       "'22_Apr_26_23_20_25'"
      ]
     },
     "execution_count": 6,
     "metadata": {},
     "output_type": "execute_result"
    }
   ],
   "source": [
    "#formatting date and time\n",
    "from datetime import datetime\n",
    "current_time=datetime.now().replace(microsecond=0)#removing microseconds from time\n",
    "forma =\"%y_%b_%d_%H_%M_%S\"#we can use %B for full month name\n",
    "new_time=datetime.strftime(current_time,forma)#formatting the current_time and converting it to string so that we can concat it later\n",
    "new_time"
   ]
  },
  {
   "cell_type": "code",
   "execution_count": 3,
   "id": "7fa3a1d3",
   "metadata": {},
   "outputs": [
    {
     "name": "stdout",
     "output_type": "stream",
     "text": [
      "2022-04-26 23:04:52\n"
     ]
    },
    {
     "data": {
      "text/plain": [
       "datetime.datetime"
      ]
     },
     "execution_count": 3,
     "metadata": {},
     "output_type": "execute_result"
    }
   ],
   "source": [
    "print(current_time)#date format before formatting\n",
    "type(current_time) #date type before formatting"
   ]
  },
  {
   "cell_type": "code",
   "execution_count": 5,
   "id": "c187fa70",
   "metadata": {},
   "outputs": [
    {
     "data": {
      "text/plain": [
       "str"
      ]
     },
     "execution_count": 5,
     "metadata": {},
     "output_type": "execute_result"
    }
   ],
   "source": [
    "type(new_time) #date type after formatting"
   ]
  }
 ],
 "metadata": {
  "kernelspec": {
   "display_name": "Python 3",
   "language": "python",
   "name": "python3"
  },
  "language_info": {
   "codemirror_mode": {
    "name": "ipython",
    "version": 3
   },
   "file_extension": ".py",
   "mimetype": "text/x-python",
   "name": "python",
   "nbconvert_exporter": "python",
   "pygments_lexer": "ipython3",
   "version": "3.8.8"
  }
 },
 "nbformat": 4,
 "nbformat_minor": 5
}
